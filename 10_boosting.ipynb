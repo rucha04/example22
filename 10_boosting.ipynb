{
  "nbformat": 4,
  "nbformat_minor": 0,
  "metadata": {
    "colab": {
      "name": "10_boosting.ipynb",
      "provenance": [],
      "authorship_tag": "ABX9TyNzIsFJsklB+J/iX0EloBAW",
      "include_colab_link": true
    },
    "kernelspec": {
      "name": "python3",
      "display_name": "Python 3"
    },
    "language_info": {
      "name": "python"
    }
  },
  "cells": [
    {
      "cell_type": "markdown",
      "metadata": {
        "id": "view-in-github",
        "colab_type": "text"
      },
      "source": [
        "<a href=\"https://colab.research.google.com/github/rucha04/example22/blob/main/10_boosting.ipynb\" target=\"_parent\"><img src=\"https://colab.research.google.com/assets/colab-badge.svg\" alt=\"Open In Colab\"/></a>"
      ]
    },
    {
      "cell_type": "markdown",
      "source": [
        "10.\tRun a boosting model on train data of Unit II and compute confusion matrix in test set. Check how your result compare with 3.\n",
        "\n",
        "https://stackabuse.com/gradient-boosting-classifiers-in-python-with-scikit-learn/\n",
        "\n",
        " dataset: https://www.kaggle.com/c/titanic/data"
      ],
      "metadata": {
        "id": "ct1rXJOVI84X"
      }
    },
    {
      "cell_type": "markdown",
      "source": [
        ""
      ],
      "metadata": {
        "id": "ZDx7j1clJTEt"
      }
    },
    {
      "cell_type": "code",
      "source": [
        "import pandas as pd\n",
        "from sklearn.preprocessing import MinMaxScaler\n",
        "from sklearn.model_selection import train_test_split\n",
        "from sklearn.metrics import classification_report, confusion_matrix\n",
        "from sklearn.ensemble import GradientBoostingClassifier"
      ],
      "metadata": {
        "id": "2J4W67oqJAnW"
      },
      "execution_count": 4,
      "outputs": []
    },
    {
      "cell_type": "markdown",
      "source": [
        ""
      ],
      "metadata": {
        "id": "NN-CvpgrJUNv"
      }
    },
    {
      "cell_type": "code",
      "source": [
        "train_data = pd.read_csv(\"train.csv\")\n",
        "test_data = pd.read_csv(\"test.csv\")"
      ],
      "metadata": {
        "id": "j4gkuziAJVII"
      },
      "execution_count": 6,
      "outputs": []
    },
    {
      "cell_type": "markdown",
      "source": [
        ""
      ],
      "metadata": {
        "id": "ezuqWBKEJVTu"
      }
    },
    {
      "cell_type": "code",
      "source": [
        "y_train = train_data[\"Survived\"]\n",
        "train_data.drop(labels=\"Survived\", axis=1, inplace=True)"
      ],
      "metadata": {
        "id": "q1TF8rVLKAah"
      },
      "execution_count": 15,
      "outputs": []
    },
    {
      "cell_type": "code",
      "source": [
        "full_data = train_data.append(test_data)"
      ],
      "metadata": {
        "id": "IR_vcdpmJVc3"
      },
      "execution_count": 16,
      "outputs": []
    },
    {
      "cell_type": "markdown",
      "source": [
        ""
      ],
      "metadata": {
        "id": "xo-Au0gBJVkf"
      }
    },
    {
      "cell_type": "code",
      "source": [
        "drop_columns = [\"Name\", \"Age\", \"SibSp\", \"Ticket\", \"Cabin\", \"Parch\", \"Embarked\"]\n",
        "full_data.drop(labels=drop_columns, axis=1, inplace=True)"
      ],
      "metadata": {
        "id": "q3UpTOSEJVrb"
      },
      "execution_count": 17,
      "outputs": []
    },
    {
      "cell_type": "markdown",
      "source": [
        ""
      ],
      "metadata": {
        "id": "TAVeeicYJV02"
      }
    },
    {
      "cell_type": "code",
      "source": [
        "full_data = pd.get_dummies(full_data, columns=[\"Sex\"])\n",
        "full_data.fillna(value=0.0, inplace=True)"
      ],
      "metadata": {
        "id": "sWMsmeV8JV6h"
      },
      "execution_count": 18,
      "outputs": []
    },
    {
      "cell_type": "markdown",
      "source": [
        ""
      ],
      "metadata": {
        "id": "jDcKnsI6JWBv"
      }
    },
    {
      "cell_type": "code",
      "source": [
        "X_train = full_data.values[0:891]\n",
        "X_test = full_data.values[891:]"
      ],
      "metadata": {
        "id": "7RaxWmCRJWHJ"
      },
      "execution_count": 19,
      "outputs": []
    },
    {
      "cell_type": "markdown",
      "source": [
        ""
      ],
      "metadata": {
        "id": "-l-kT2ErJWN7"
      }
    },
    {
      "cell_type": "code",
      "source": [
        "scaler = MinMaxScaler()\n",
        "X_train = scaler.fit_transform(X_train)\n",
        "X_test = scaler.transform(X_test)"
      ],
      "metadata": {
        "id": "lJiT58NFJWTd"
      },
      "execution_count": 20,
      "outputs": []
    },
    {
      "cell_type": "markdown",
      "source": [
        ""
      ],
      "metadata": {
        "id": "0vM9hd6BJqJ3"
      }
    },
    {
      "cell_type": "code",
      "source": [
        "state = 12  \n",
        "test_size = 0.30  \n",
        "  \n",
        "X_train, X_val, y_train, y_val = train_test_split(X_train, y_train,  \n",
        "    test_size=test_size, random_state=state)"
      ],
      "metadata": {
        "id": "7VS0-S2xJqWH"
      },
      "execution_count": 21,
      "outputs": []
    },
    {
      "cell_type": "markdown",
      "source": [
        ""
      ],
      "metadata": {
        "id": "MOJ4DRXKJqv7"
      }
    },
    {
      "cell_type": "code",
      "source": [
        "lr_list = [0.05, 0.075, 0.1, 0.25, 0.5, 0.75, 1]\n",
        "\n",
        "for learning_rate in lr_list:\n",
        "    gb_clf = GradientBoostingClassifier(n_estimators=20, learning_rate=learning_rate, max_features=2, max_depth=2, random_state=0)\n",
        "    gb_clf.fit(X_train, y_train)\n",
        "\n",
        "    print(\"Learning rate: \", learning_rate)\n",
        "    print(\"Accuracy score (training): {0:.3f}\".format(gb_clf.score(X_train, y_train)))\n",
        "    print(\"Accuracy score (validation): {0:.3f}\".format(gb_clf.score(X_val, y_val)))"
      ],
      "metadata": {
        "colab": {
          "base_uri": "https://localhost:8080/"
        },
        "id": "2SdbqSHYJq1d",
        "outputId": "e4c5e33a-d9b1-4b8d-8910-bb3bd541f097"
      },
      "execution_count": 22,
      "outputs": [
        {
          "output_type": "stream",
          "name": "stdout",
          "text": [
            "Learning rate:  0.05\n",
            "Accuracy score (training): 0.801\n",
            "Accuracy score (validation): 0.731\n",
            "Learning rate:  0.075\n",
            "Accuracy score (training): 0.814\n",
            "Accuracy score (validation): 0.731\n",
            "Learning rate:  0.1\n",
            "Accuracy score (training): 0.812\n",
            "Accuracy score (validation): 0.724\n",
            "Learning rate:  0.25\n",
            "Accuracy score (training): 0.835\n",
            "Accuracy score (validation): 0.750\n",
            "Learning rate:  0.5\n",
            "Accuracy score (training): 0.864\n",
            "Accuracy score (validation): 0.772\n",
            "Learning rate:  0.75\n",
            "Accuracy score (training): 0.875\n",
            "Accuracy score (validation): 0.754\n",
            "Learning rate:  1\n",
            "Accuracy score (training): 0.875\n",
            "Accuracy score (validation): 0.739\n"
          ]
        }
      ]
    },
    {
      "cell_type": "markdown",
      "source": [
        ""
      ],
      "metadata": {
        "id": "VkPXo0XUJq8t"
      }
    },
    {
      "cell_type": "code",
      "source": [
        "gb_clf2 = GradientBoostingClassifier(n_estimators=20, learning_rate=0.5, max_features=2, max_depth=2, random_state=0)\n",
        "gb_clf2.fit(X_train, y_train)\n",
        "predictions = gb_clf2.predict(X_val)\n",
        "\n",
        "print(\"Confusion Matrix:\")\n",
        "print(confusion_matrix(y_val, predictions))\n",
        "\n",
        "print(\"Classification Report\")\n",
        "print(classification_report(y_val, predictions))"
      ],
      "metadata": {
        "colab": {
          "base_uri": "https://localhost:8080/"
        },
        "id": "jfvn_or-KRUR",
        "outputId": "eae9a24c-c198-419d-d374-469a747c67b7"
      },
      "execution_count": 26,
      "outputs": [
        {
          "output_type": "stream",
          "name": "stdout",
          "text": [
            "Confusion Matrix:\n",
            "[[142  19]\n",
            " [ 42  65]]\n",
            "Classification Report\n",
            "              precision    recall  f1-score   support\n",
            "\n",
            "           0       0.77      0.88      0.82       161\n",
            "           1       0.77      0.61      0.68       107\n",
            "\n",
            "    accuracy                           0.77       268\n",
            "   macro avg       0.77      0.74      0.75       268\n",
            "weighted avg       0.77      0.77      0.77       268\n",
            "\n"
          ]
        }
      ]
    }
  ]
}