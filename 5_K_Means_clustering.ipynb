{
  "nbformat": 4,
  "nbformat_minor": 5,
  "metadata": {
    "kernelspec": {
      "display_name": "Python 3",
      "language": "python",
      "name": "python3"
    },
    "language_info": {
      "codemirror_mode": {
        "name": "ipython",
        "version": 3
      },
      "file_extension": ".py",
      "mimetype": "text/x-python",
      "name": "python",
      "nbconvert_exporter": "python",
      "pygments_lexer": "ipython3",
      "version": "3.8.8"
    },
    "colab": {
      "name": "5 K Means clustering.ipynb",
      "provenance": [],
      "collapsed_sections": [],
      "include_colab_link": true
    }
  },
  "cells": [
    {
      "cell_type": "markdown",
      "metadata": {
        "id": "view-in-github",
        "colab_type": "text"
      },
      "source": [
        "<a href=\"https://colab.research.google.com/github/rucha04/example22/blob/main/5_K_Means_clustering.ipynb\" target=\"_parent\"><img src=\"https://colab.research.google.com/assets/colab-badge.svg\" alt=\"Open In Colab\"/></a>"
      ]
    },
    {
      "cell_type": "markdown",
      "metadata": {
        "id": "current-strengthening"
      },
      "source": [
        "## Kmeans Clustering \n",
        "https://www.kaggle.com/uciml/red-wine-quality-cortez-et-al-2009\n",
        "\n",
        "https://www.javatpoint.com/k-means-clustering-algorithm-in-machine-learning"
      ],
      "id": "current-strengthening"
    },
    {
      "cell_type": "markdown",
      "metadata": {
        "id": "parliamentary-setup"
      },
      "source": [
        "#### Importing the libraries"
      ],
      "id": "parliamentary-setup"
    },
    {
      "cell_type": "code",
      "metadata": {
        "id": "several-absolute"
      },
      "source": [
        "import numpy as np\n",
        "import pandas as pd\n",
        "import matplotlib.pyplot as plt\n",
        "import seaborn as sns "
      ],
      "id": "several-absolute",
      "execution_count": null,
      "outputs": []
    },
    {
      "cell_type": "markdown",
      "metadata": {
        "id": "furnished-separate"
      },
      "source": [
        "#### Importing the data set "
      ],
      "id": "furnished-separate"
    },
    {
      "cell_type": "code",
      "metadata": {
        "colab": {
          "base_uri": "https://localhost:8080/",
          "height": 241
        },
        "id": "confirmed-engineer",
        "outputId": "f40147f4-9c69-4b0a-8136-a1dfd32ec1f5"
      },
      "source": [
        "file = \"winequality-red.csv\"\n",
        "data = pd.read_csv(file)\n",
        "data.head()"
      ],
      "id": "confirmed-engineer",
      "execution_count": null,
      "outputs": [
        {
          "output_type": "execute_result",
          "data": {
            "text/html": [
              "<div>\n",
              "<style scoped>\n",
              "    .dataframe tbody tr th:only-of-type {\n",
              "        vertical-align: middle;\n",
              "    }\n",
              "\n",
              "    .dataframe tbody tr th {\n",
              "        vertical-align: top;\n",
              "    }\n",
              "\n",
              "    .dataframe thead th {\n",
              "        text-align: right;\n",
              "    }\n",
              "</style>\n",
              "<table border=\"1\" class=\"dataframe\">\n",
              "  <thead>\n",
              "    <tr style=\"text-align: right;\">\n",
              "      <th></th>\n",
              "      <th>fixed acidity</th>\n",
              "      <th>volatile acidity</th>\n",
              "      <th>citric acid</th>\n",
              "      <th>residual sugar</th>\n",
              "      <th>chlorides</th>\n",
              "      <th>free sulfur dioxide</th>\n",
              "      <th>total sulfur dioxide</th>\n",
              "      <th>density</th>\n",
              "      <th>pH</th>\n",
              "      <th>sulphates</th>\n",
              "      <th>alcohol</th>\n",
              "      <th>quality</th>\n",
              "    </tr>\n",
              "  </thead>\n",
              "  <tbody>\n",
              "    <tr>\n",
              "      <th>0</th>\n",
              "      <td>7.4</td>\n",
              "      <td>0.70</td>\n",
              "      <td>0.00</td>\n",
              "      <td>1.9</td>\n",
              "      <td>0.076</td>\n",
              "      <td>11.0</td>\n",
              "      <td>34.0</td>\n",
              "      <td>0.9978</td>\n",
              "      <td>3.51</td>\n",
              "      <td>0.56</td>\n",
              "      <td>9.4</td>\n",
              "      <td>5</td>\n",
              "    </tr>\n",
              "    <tr>\n",
              "      <th>1</th>\n",
              "      <td>7.8</td>\n",
              "      <td>0.88</td>\n",
              "      <td>0.00</td>\n",
              "      <td>2.6</td>\n",
              "      <td>0.098</td>\n",
              "      <td>25.0</td>\n",
              "      <td>67.0</td>\n",
              "      <td>0.9968</td>\n",
              "      <td>3.20</td>\n",
              "      <td>0.68</td>\n",
              "      <td>9.8</td>\n",
              "      <td>5</td>\n",
              "    </tr>\n",
              "    <tr>\n",
              "      <th>2</th>\n",
              "      <td>7.8</td>\n",
              "      <td>0.76</td>\n",
              "      <td>0.04</td>\n",
              "      <td>2.3</td>\n",
              "      <td>0.092</td>\n",
              "      <td>15.0</td>\n",
              "      <td>54.0</td>\n",
              "      <td>0.9970</td>\n",
              "      <td>3.26</td>\n",
              "      <td>0.65</td>\n",
              "      <td>9.8</td>\n",
              "      <td>5</td>\n",
              "    </tr>\n",
              "    <tr>\n",
              "      <th>3</th>\n",
              "      <td>11.2</td>\n",
              "      <td>0.28</td>\n",
              "      <td>0.56</td>\n",
              "      <td>1.9</td>\n",
              "      <td>0.075</td>\n",
              "      <td>17.0</td>\n",
              "      <td>60.0</td>\n",
              "      <td>0.9980</td>\n",
              "      <td>3.16</td>\n",
              "      <td>0.58</td>\n",
              "      <td>9.8</td>\n",
              "      <td>6</td>\n",
              "    </tr>\n",
              "    <tr>\n",
              "      <th>4</th>\n",
              "      <td>7.4</td>\n",
              "      <td>0.70</td>\n",
              "      <td>0.00</td>\n",
              "      <td>1.9</td>\n",
              "      <td>0.076</td>\n",
              "      <td>11.0</td>\n",
              "      <td>34.0</td>\n",
              "      <td>0.9978</td>\n",
              "      <td>3.51</td>\n",
              "      <td>0.56</td>\n",
              "      <td>9.4</td>\n",
              "      <td>5</td>\n",
              "    </tr>\n",
              "  </tbody>\n",
              "</table>\n",
              "</div>"
            ],
            "text/plain": [
              "   fixed acidity  volatile acidity  citric acid  ...  sulphates  alcohol  quality\n",
              "0            7.4              0.70         0.00  ...       0.56      9.4        5\n",
              "1            7.8              0.88         0.00  ...       0.68      9.8        5\n",
              "2            7.8              0.76         0.04  ...       0.65      9.8        5\n",
              "3           11.2              0.28         0.56  ...       0.58      9.8        6\n",
              "4            7.4              0.70         0.00  ...       0.56      9.4        5\n",
              "\n",
              "[5 rows x 12 columns]"
            ]
          },
          "metadata": {},
          "execution_count": 8
        }
      ]
    },
    {
      "cell_type": "code",
      "metadata": {
        "colab": {
          "base_uri": "https://localhost:8080/"
        },
        "id": "strange-segment",
        "outputId": "00e5085a-3ce8-4a8e-f410-28a7eff09c11"
      },
      "source": [
        "pd.isnull(data).sum()"
      ],
      "id": "strange-segment",
      "execution_count": null,
      "outputs": [
        {
          "output_type": "execute_result",
          "data": {
            "text/plain": [
              "fixed acidity           0\n",
              "volatile acidity        0\n",
              "citric acid             0\n",
              "residual sugar          0\n",
              "chlorides               0\n",
              "free sulfur dioxide     0\n",
              "total sulfur dioxide    0\n",
              "density                 0\n",
              "pH                      0\n",
              "sulphates               0\n",
              "alcohol                 0\n",
              "quality                 0\n",
              "dtype: int64"
            ]
          },
          "metadata": {},
          "execution_count": 9
        }
      ]
    },
    {
      "cell_type": "markdown",
      "metadata": {
        "id": "neither-consolidation"
      },
      "source": [
        "There are no missing values in the data set."
      ],
      "id": "neither-consolidation"
    },
    {
      "cell_type": "code",
      "metadata": {
        "colab": {
          "base_uri": "https://localhost:8080/"
        },
        "id": "Sg6hhQUJ4Z-2",
        "outputId": "f7d23f43-bc92-4231-d946-07181a2d517d"
      },
      "source": [
        "data.info()"
      ],
      "id": "Sg6hhQUJ4Z-2",
      "execution_count": null,
      "outputs": [
        {
          "output_type": "stream",
          "name": "stdout",
          "text": [
            "<class 'pandas.core.frame.DataFrame'>\n",
            "RangeIndex: 1599 entries, 0 to 1598\n",
            "Data columns (total 12 columns):\n",
            " #   Column                Non-Null Count  Dtype  \n",
            "---  ------                --------------  -----  \n",
            " 0   fixed acidity         1599 non-null   float64\n",
            " 1   volatile acidity      1599 non-null   float64\n",
            " 2   citric acid           1599 non-null   float64\n",
            " 3   residual sugar        1599 non-null   float64\n",
            " 4   chlorides             1599 non-null   float64\n",
            " 5   free sulfur dioxide   1599 non-null   float64\n",
            " 6   total sulfur dioxide  1599 non-null   float64\n",
            " 7   density               1599 non-null   float64\n",
            " 8   pH                    1599 non-null   float64\n",
            " 9   sulphates             1599 non-null   float64\n",
            " 10  alcohol               1599 non-null   float64\n",
            " 11  quality               1599 non-null   int64  \n",
            "dtypes: float64(11), int64(1)\n",
            "memory usage: 150.0 KB\n"
          ]
        }
      ]
    },
    {
      "cell_type": "code",
      "metadata": {
        "colab": {
          "base_uri": "https://localhost:8080/"
        },
        "id": "patient-optimization",
        "outputId": "bbabe847-6a30-4c88-939a-bde42a4fe078"
      },
      "source": [
        "data[\"quality\"].unique()"
      ],
      "id": "patient-optimization",
      "execution_count": null,
      "outputs": [
        {
          "output_type": "execute_result",
          "data": {
            "text/plain": [
              "array([5, 6, 7, 4, 8, 3])"
            ]
          },
          "metadata": {},
          "execution_count": 10
        }
      ]
    },
    {
      "cell_type": "markdown",
      "metadata": {
        "id": "continuous-appliance"
      },
      "source": [
        "We have 6 categories, hence k=**6**"
      ],
      "id": "continuous-appliance"
    },
    {
      "cell_type": "markdown",
      "metadata": {
        "id": "bacterial-lender"
      },
      "source": [
        "### Polarizing the feature columns and dependent variable column"
      ],
      "id": "bacterial-lender"
    },
    {
      "cell_type": "code",
      "metadata": {
        "id": "raising-slope"
      },
      "source": [
        "X = data.drop(\"quality\", axis=1)\n",
        "y = data[\"quality\"]"
      ],
      "id": "raising-slope",
      "execution_count": null,
      "outputs": []
    },
    {
      "cell_type": "markdown",
      "metadata": {
        "id": "worldwide-albert"
      },
      "source": [
        "### Feature Scaling"
      ],
      "id": "worldwide-albert"
    },
    {
      "cell_type": "code",
      "metadata": {
        "colab": {
          "base_uri": "https://localhost:8080/"
        },
        "id": "lucky-bidder",
        "outputId": "b2599303-6159-4894-cb35-2a9860953d39"
      },
      "source": [
        "from sklearn.preprocessing import StandardScaler\n",
        "sc = StandardScaler()\n",
        "X = sc.fit_transform(X)\n",
        "X"
      ],
      "id": "lucky-bidder",
      "execution_count": null,
      "outputs": [
        {
          "output_type": "execute_result",
          "data": {
            "text/plain": [
              "array([[-0.52835961,  0.96187667, -1.39147228, ...,  1.28864292,\n",
              "        -0.57920652, -0.96024611],\n",
              "       [-0.29854743,  1.96744245, -1.39147228, ..., -0.7199333 ,\n",
              "         0.1289504 , -0.58477711],\n",
              "       [-0.29854743,  1.29706527, -1.18607043, ..., -0.33117661,\n",
              "        -0.04808883, -0.58477711],\n",
              "       ...,\n",
              "       [-1.1603431 , -0.09955388, -0.72391627, ...,  0.70550789,\n",
              "         0.54204194,  0.54162988],\n",
              "       [-1.39015528,  0.65462046, -0.77526673, ...,  1.6773996 ,\n",
              "         0.30598963, -0.20930812],\n",
              "       [-1.33270223, -1.21684919,  1.02199944, ...,  0.51112954,\n",
              "         0.01092425,  0.54162988]])"
            ]
          },
          "metadata": {},
          "execution_count": 12
        }
      ]
    },
    {
      "cell_type": "code",
      "metadata": {
        "colab": {
          "base_uri": "https://localhost:8080/",
          "height": 423
        },
        "id": "unlimited-cover",
        "outputId": "3ed9b720-f422-4eb5-a6b5-084018331804"
      },
      "source": [
        "X = pd.DataFrame(X)\n",
        "X"
      ],
      "id": "unlimited-cover",
      "execution_count": null,
      "outputs": [
        {
          "output_type": "execute_result",
          "data": {
            "text/html": [
              "<div>\n",
              "<style scoped>\n",
              "    .dataframe tbody tr th:only-of-type {\n",
              "        vertical-align: middle;\n",
              "    }\n",
              "\n",
              "    .dataframe tbody tr th {\n",
              "        vertical-align: top;\n",
              "    }\n",
              "\n",
              "    .dataframe thead th {\n",
              "        text-align: right;\n",
              "    }\n",
              "</style>\n",
              "<table border=\"1\" class=\"dataframe\">\n",
              "  <thead>\n",
              "    <tr style=\"text-align: right;\">\n",
              "      <th></th>\n",
              "      <th>0</th>\n",
              "      <th>1</th>\n",
              "      <th>2</th>\n",
              "      <th>3</th>\n",
              "      <th>4</th>\n",
              "      <th>5</th>\n",
              "      <th>6</th>\n",
              "      <th>7</th>\n",
              "      <th>8</th>\n",
              "      <th>9</th>\n",
              "      <th>10</th>\n",
              "    </tr>\n",
              "  </thead>\n",
              "  <tbody>\n",
              "    <tr>\n",
              "      <th>0</th>\n",
              "      <td>-0.528360</td>\n",
              "      <td>0.961877</td>\n",
              "      <td>-1.391472</td>\n",
              "      <td>-0.453218</td>\n",
              "      <td>-0.243707</td>\n",
              "      <td>-0.466193</td>\n",
              "      <td>-0.379133</td>\n",
              "      <td>0.558274</td>\n",
              "      <td>1.288643</td>\n",
              "      <td>-0.579207</td>\n",
              "      <td>-0.960246</td>\n",
              "    </tr>\n",
              "    <tr>\n",
              "      <th>1</th>\n",
              "      <td>-0.298547</td>\n",
              "      <td>1.967442</td>\n",
              "      <td>-1.391472</td>\n",
              "      <td>0.043416</td>\n",
              "      <td>0.223875</td>\n",
              "      <td>0.872638</td>\n",
              "      <td>0.624363</td>\n",
              "      <td>0.028261</td>\n",
              "      <td>-0.719933</td>\n",
              "      <td>0.128950</td>\n",
              "      <td>-0.584777</td>\n",
              "    </tr>\n",
              "    <tr>\n",
              "      <th>2</th>\n",
              "      <td>-0.298547</td>\n",
              "      <td>1.297065</td>\n",
              "      <td>-1.186070</td>\n",
              "      <td>-0.169427</td>\n",
              "      <td>0.096353</td>\n",
              "      <td>-0.083669</td>\n",
              "      <td>0.229047</td>\n",
              "      <td>0.134264</td>\n",
              "      <td>-0.331177</td>\n",
              "      <td>-0.048089</td>\n",
              "      <td>-0.584777</td>\n",
              "    </tr>\n",
              "    <tr>\n",
              "      <th>3</th>\n",
              "      <td>1.654856</td>\n",
              "      <td>-1.384443</td>\n",
              "      <td>1.484154</td>\n",
              "      <td>-0.453218</td>\n",
              "      <td>-0.264960</td>\n",
              "      <td>0.107592</td>\n",
              "      <td>0.411500</td>\n",
              "      <td>0.664277</td>\n",
              "      <td>-0.979104</td>\n",
              "      <td>-0.461180</td>\n",
              "      <td>-0.584777</td>\n",
              "    </tr>\n",
              "    <tr>\n",
              "      <th>4</th>\n",
              "      <td>-0.528360</td>\n",
              "      <td>0.961877</td>\n",
              "      <td>-1.391472</td>\n",
              "      <td>-0.453218</td>\n",
              "      <td>-0.243707</td>\n",
              "      <td>-0.466193</td>\n",
              "      <td>-0.379133</td>\n",
              "      <td>0.558274</td>\n",
              "      <td>1.288643</td>\n",
              "      <td>-0.579207</td>\n",
              "      <td>-0.960246</td>\n",
              "    </tr>\n",
              "    <tr>\n",
              "      <th>...</th>\n",
              "      <td>...</td>\n",
              "      <td>...</td>\n",
              "      <td>...</td>\n",
              "      <td>...</td>\n",
              "      <td>...</td>\n",
              "      <td>...</td>\n",
              "      <td>...</td>\n",
              "      <td>...</td>\n",
              "      <td>...</td>\n",
              "      <td>...</td>\n",
              "      <td>...</td>\n",
              "    </tr>\n",
              "    <tr>\n",
              "      <th>1594</th>\n",
              "      <td>-1.217796</td>\n",
              "      <td>0.403229</td>\n",
              "      <td>-0.980669</td>\n",
              "      <td>-0.382271</td>\n",
              "      <td>0.053845</td>\n",
              "      <td>1.542054</td>\n",
              "      <td>-0.075043</td>\n",
              "      <td>-0.978765</td>\n",
              "      <td>0.899886</td>\n",
              "      <td>-0.461180</td>\n",
              "      <td>0.072294</td>\n",
              "    </tr>\n",
              "    <tr>\n",
              "      <th>1595</th>\n",
              "      <td>-1.390155</td>\n",
              "      <td>0.123905</td>\n",
              "      <td>-0.877968</td>\n",
              "      <td>-0.240375</td>\n",
              "      <td>-0.541259</td>\n",
              "      <td>2.211469</td>\n",
              "      <td>0.137820</td>\n",
              "      <td>-0.862162</td>\n",
              "      <td>1.353436</td>\n",
              "      <td>0.601055</td>\n",
              "      <td>0.729364</td>\n",
              "    </tr>\n",
              "    <tr>\n",
              "      <th>1596</th>\n",
              "      <td>-1.160343</td>\n",
              "      <td>-0.099554</td>\n",
              "      <td>-0.723916</td>\n",
              "      <td>-0.169427</td>\n",
              "      <td>-0.243707</td>\n",
              "      <td>1.255161</td>\n",
              "      <td>-0.196679</td>\n",
              "      <td>-0.533554</td>\n",
              "      <td>0.705508</td>\n",
              "      <td>0.542042</td>\n",
              "      <td>0.541630</td>\n",
              "    </tr>\n",
              "    <tr>\n",
              "      <th>1597</th>\n",
              "      <td>-1.390155</td>\n",
              "      <td>0.654620</td>\n",
              "      <td>-0.775267</td>\n",
              "      <td>-0.382271</td>\n",
              "      <td>-0.264960</td>\n",
              "      <td>1.542054</td>\n",
              "      <td>-0.075043</td>\n",
              "      <td>-0.676657</td>\n",
              "      <td>1.677400</td>\n",
              "      <td>0.305990</td>\n",
              "      <td>-0.209308</td>\n",
              "    </tr>\n",
              "    <tr>\n",
              "      <th>1598</th>\n",
              "      <td>-1.332702</td>\n",
              "      <td>-1.216849</td>\n",
              "      <td>1.021999</td>\n",
              "      <td>0.752894</td>\n",
              "      <td>-0.434990</td>\n",
              "      <td>0.203223</td>\n",
              "      <td>-0.135861</td>\n",
              "      <td>-0.666057</td>\n",
              "      <td>0.511130</td>\n",
              "      <td>0.010924</td>\n",
              "      <td>0.541630</td>\n",
              "    </tr>\n",
              "  </tbody>\n",
              "</table>\n",
              "<p>1599 rows × 11 columns</p>\n",
              "</div>"
            ],
            "text/plain": [
              "            0         1         2   ...        8         9         10\n",
              "0    -0.528360  0.961877 -1.391472  ...  1.288643 -0.579207 -0.960246\n",
              "1    -0.298547  1.967442 -1.391472  ... -0.719933  0.128950 -0.584777\n",
              "2    -0.298547  1.297065 -1.186070  ... -0.331177 -0.048089 -0.584777\n",
              "3     1.654856 -1.384443  1.484154  ... -0.979104 -0.461180 -0.584777\n",
              "4    -0.528360  0.961877 -1.391472  ...  1.288643 -0.579207 -0.960246\n",
              "...        ...       ...       ...  ...       ...       ...       ...\n",
              "1594 -1.217796  0.403229 -0.980669  ...  0.899886 -0.461180  0.072294\n",
              "1595 -1.390155  0.123905 -0.877968  ...  1.353436  0.601055  0.729364\n",
              "1596 -1.160343 -0.099554 -0.723916  ...  0.705508  0.542042  0.541630\n",
              "1597 -1.390155  0.654620 -0.775267  ...  1.677400  0.305990 -0.209308\n",
              "1598 -1.332702 -1.216849  1.021999  ...  0.511130  0.010924  0.541630\n",
              "\n",
              "[1599 rows x 11 columns]"
            ]
          },
          "metadata": {},
          "execution_count": 13
        }
      ]
    },
    {
      "cell_type": "markdown",
      "metadata": {
        "id": "crucial-rubber"
      },
      "source": [
        "### K means Clustering"
      ],
      "id": "crucial-rubber"
    },
    {
      "cell_type": "code",
      "metadata": {
        "colab": {
          "base_uri": "https://localhost:8080/"
        },
        "id": "stretch-syndicate",
        "outputId": "fb988cb9-9948-496c-fe3f-a398be823f19"
      },
      "source": [
        "from sklearn.cluster import KMeans\n",
        "kmeans = KMeans(n_clusters=6)\n",
        "kmeans.fit(X)"
      ],
      "id": "stretch-syndicate",
      "execution_count": null,
      "outputs": [
        {
          "output_type": "execute_result",
          "data": {
            "text/plain": [
              "KMeans(n_clusters=6)"
            ]
          },
          "metadata": {},
          "execution_count": 14
        }
      ]
    },
    {
      "cell_type": "code",
      "metadata": {
        "colab": {
          "base_uri": "https://localhost:8080/"
        },
        "id": "meaningful-norway",
        "outputId": "e4ed1217-e7c8-43b6-ca04-dd7b6fd95dcf"
      },
      "source": [
        "clusters = kmeans.predict(X)\n",
        "clusters"
      ],
      "id": "meaningful-norway",
      "execution_count": null,
      "outputs": [
        {
          "output_type": "execute_result",
          "data": {
            "text/plain": [
              "array([2, 2, 2, ..., 1, 2, 1], dtype=int32)"
            ]
          },
          "metadata": {},
          "execution_count": 15
        }
      ]
    },
    {
      "cell_type": "code",
      "metadata": {
        "colab": {
          "base_uri": "https://localhost:8080/"
        },
        "id": "assigned-transparency",
        "outputId": "4235892b-d6ff-4c63-f527-15c3527a677c"
      },
      "source": [
        "kmeans.cluster_centers_"
      ],
      "id": "assigned-transparency",
      "execution_count": null,
      "outputs": [
        {
          "output_type": "execute_result",
          "data": {
            "text/plain": [
              "array([[-7.48185194e-02,  2.81956972e-02,  7.86612459e-02,\n",
              "        -1.74111543e-02, -3.47325911e-02,  1.01453742e+00,\n",
              "         1.22878617e+00,  2.26953549e-01, -1.29556721e-01,\n",
              "        -1.72363427e-01, -5.62046513e-01],\n",
              "       [-6.92918829e-01, -4.34372506e-01, -1.51579663e-01,\n",
              "        -2.56819880e-01, -4.16833031e-01,  1.15191886e-01,\n",
              "        -2.43601332e-01, -1.23892827e+00,  6.37282376e-01,\n",
              "         1.37939147e-01,  1.28997771e+00],\n",
              "       [-4.71338545e-01,  6.90113488e-01, -8.21115359e-01,\n",
              "        -1.91498399e-01, -6.00138041e-02, -4.32847578e-01,\n",
              "        -4.09141538e-01, -5.15401664e-02,  4.10773808e-01,\n",
              "        -3.96953730e-01, -4.24773445e-01],\n",
              "       [ 9.54162998e-02,  2.19980305e-03,  1.18155266e+00,\n",
              "        -3.89872163e-01,  5.78475973e+00, -4.95156003e-02,\n",
              "         5.10329601e-01,  1.80071833e-01, -1.73579154e+00,\n",
              "         3.66341219e+00, -8.69731260e-01],\n",
              "       [ 1.33799383e+00, -6.73360431e-01,  1.12583206e+00,\n",
              "         7.59583143e-02, -6.69548430e-03, -5.71834219e-01,\n",
              "        -5.46842750e-01,  7.65067409e-01, -8.46484486e-01,\n",
              "         3.48095380e-01,  1.76935358e-01],\n",
              "       [-8.56332101e-02, -3.46521643e-02,  4.14855742e-01,\n",
              "         4.96176756e+00,  2.96387895e-01,  1.75019116e+00,\n",
              "         1.69583213e+00,  1.22500051e+00, -3.25459600e-01,\n",
              "        -2.37893278e-02, -3.63912996e-01]])"
            ]
          },
          "metadata": {},
          "execution_count": 16
        }
      ]
    },
    {
      "cell_type": "markdown",
      "metadata": {
        "id": "conditional-container"
      },
      "source": [
        "### Dimension reduction using PCA"
      ],
      "id": "conditional-container"
    },
    {
      "cell_type": "code",
      "metadata": {
        "colab": {
          "base_uri": "https://localhost:8080/",
          "height": 423
        },
        "id": "heavy-invitation",
        "outputId": "9405e044-fd96-441a-c6ec-d18d07261545"
      },
      "source": [
        "from sklearn.decomposition import PCA\n",
        "pca = PCA(n_components=2)\n",
        "X_reduced = pd.DataFrame(pca.fit_transform(X), columns=[\"PCA1\",\"PCA2\"])\n",
        "centers_reduced = pd.DataFrame(pca.transform(kmeans.cluster_centers_), columns=[\"PCA1\",\"PCA2\"])\n",
        "X_reduced"
      ],
      "id": "heavy-invitation",
      "execution_count": null,
      "outputs": [
        {
          "output_type": "execute_result",
          "data": {
            "text/html": [
              "<div>\n",
              "<style scoped>\n",
              "    .dataframe tbody tr th:only-of-type {\n",
              "        vertical-align: middle;\n",
              "    }\n",
              "\n",
              "    .dataframe tbody tr th {\n",
              "        vertical-align: top;\n",
              "    }\n",
              "\n",
              "    .dataframe thead th {\n",
              "        text-align: right;\n",
              "    }\n",
              "</style>\n",
              "<table border=\"1\" class=\"dataframe\">\n",
              "  <thead>\n",
              "    <tr style=\"text-align: right;\">\n",
              "      <th></th>\n",
              "      <th>PCA1</th>\n",
              "      <th>PCA2</th>\n",
              "    </tr>\n",
              "  </thead>\n",
              "  <tbody>\n",
              "    <tr>\n",
              "      <th>0</th>\n",
              "      <td>-1.619530</td>\n",
              "      <td>0.450950</td>\n",
              "    </tr>\n",
              "    <tr>\n",
              "      <th>1</th>\n",
              "      <td>-0.799170</td>\n",
              "      <td>1.856553</td>\n",
              "    </tr>\n",
              "    <tr>\n",
              "      <th>2</th>\n",
              "      <td>-0.748479</td>\n",
              "      <td>0.882039</td>\n",
              "    </tr>\n",
              "    <tr>\n",
              "      <th>3</th>\n",
              "      <td>2.357673</td>\n",
              "      <td>-0.269976</td>\n",
              "    </tr>\n",
              "    <tr>\n",
              "      <th>4</th>\n",
              "      <td>-1.619530</td>\n",
              "      <td>0.450950</td>\n",
              "    </tr>\n",
              "    <tr>\n",
              "      <th>...</th>\n",
              "      <td>...</td>\n",
              "      <td>...</td>\n",
              "    </tr>\n",
              "    <tr>\n",
              "      <th>1594</th>\n",
              "      <td>-2.150500</td>\n",
              "      <td>0.814286</td>\n",
              "    </tr>\n",
              "    <tr>\n",
              "      <th>1595</th>\n",
              "      <td>-2.214496</td>\n",
              "      <td>0.893101</td>\n",
              "    </tr>\n",
              "    <tr>\n",
              "      <th>1596</th>\n",
              "      <td>-1.456129</td>\n",
              "      <td>0.311746</td>\n",
              "    </tr>\n",
              "    <tr>\n",
              "      <th>1597</th>\n",
              "      <td>-2.270518</td>\n",
              "      <td>0.979791</td>\n",
              "    </tr>\n",
              "    <tr>\n",
              "      <th>1598</th>\n",
              "      <td>-0.426975</td>\n",
              "      <td>-0.536690</td>\n",
              "    </tr>\n",
              "  </tbody>\n",
              "</table>\n",
              "<p>1599 rows × 2 columns</p>\n",
              "</div>"
            ],
            "text/plain": [
              "          PCA1      PCA2\n",
              "0    -1.619530  0.450950\n",
              "1    -0.799170  1.856553\n",
              "2    -0.748479  0.882039\n",
              "3     2.357673 -0.269976\n",
              "4    -1.619530  0.450950\n",
              "...        ...       ...\n",
              "1594 -2.150500  0.814286\n",
              "1595 -2.214496  0.893101\n",
              "1596 -1.456129  0.311746\n",
              "1597 -2.270518  0.979791\n",
              "1598 -0.426975 -0.536690\n",
              "\n",
              "[1599 rows x 2 columns]"
            ]
          },
          "metadata": {},
          "execution_count": 19
        }
      ]
    },
    {
      "cell_type": "code",
      "metadata": {
        "colab": {
          "base_uri": "https://localhost:8080/",
          "height": 238
        },
        "id": "meaning-fight",
        "outputId": "c9c53ff2-04bb-44b1-bd37-770f90817ed3"
      },
      "source": [
        "centers_reduced"
      ],
      "id": "meaning-fight",
      "execution_count": null,
      "outputs": [
        {
          "output_type": "execute_result",
          "data": {
            "text/html": [
              "<div>\n",
              "<style scoped>\n",
              "    .dataframe tbody tr th:only-of-type {\n",
              "        vertical-align: middle;\n",
              "    }\n",
              "\n",
              "    .dataframe tbody tr th {\n",
              "        vertical-align: top;\n",
              "    }\n",
              "\n",
              "    .dataframe thead th {\n",
              "        text-align: right;\n",
              "    }\n",
              "</style>\n",
              "<table border=\"1\" class=\"dataframe\">\n",
              "  <thead>\n",
              "    <tr style=\"text-align: right;\">\n",
              "      <th></th>\n",
              "      <th>PCA1</th>\n",
              "      <th>PCA2</th>\n",
              "    </tr>\n",
              "  </thead>\n",
              "  <tbody>\n",
              "    <tr>\n",
              "      <th>0</th>\n",
              "      <td>0.143813</td>\n",
              "      <td>1.490676</td>\n",
              "    </tr>\n",
              "    <tr>\n",
              "      <th>1</th>\n",
              "      <td>-1.323434</td>\n",
              "      <td>-1.019453</td>\n",
              "    </tr>\n",
              "    <tr>\n",
              "      <th>2</th>\n",
              "      <td>-1.059529</td>\n",
              "      <td>0.019835</td>\n",
              "    </tr>\n",
              "    <tr>\n",
              "      <th>3</th>\n",
              "      <td>3.599396</td>\n",
              "      <td>1.054984</td>\n",
              "    </tr>\n",
              "    <tr>\n",
              "      <th>4</th>\n",
              "      <td>2.092982</td>\n",
              "      <td>-0.997671</td>\n",
              "    </tr>\n",
              "    <tr>\n",
              "      <th>5</th>\n",
              "      <td>1.585715</td>\n",
              "      <td>3.620814</td>\n",
              "    </tr>\n",
              "  </tbody>\n",
              "</table>\n",
              "</div>"
            ],
            "text/plain": [
              "       PCA1      PCA2\n",
              "0  0.143813  1.490676\n",
              "1 -1.323434 -1.019453\n",
              "2 -1.059529  0.019835\n",
              "3  3.599396  1.054984\n",
              "4  2.092982 -0.997671\n",
              "5  1.585715  3.620814"
            ]
          },
          "metadata": {},
          "execution_count": 20
        }
      ]
    },
    {
      "cell_type": "markdown",
      "metadata": {
        "id": "employed-broadway"
      },
      "source": [
        "### Visualization "
      ],
      "id": "employed-broadway"
    },
    {
      "cell_type": "code",
      "metadata": {
        "colab": {
          "base_uri": "https://localhost:8080/",
          "height": 446
        },
        "id": "blind-contact",
        "outputId": "73110eb5-3cac-401c-acdd-06cac1c2e5b1"
      },
      "source": [
        "plt.figure(figsize=(7,7))\n",
        "plt.scatter(x=X_reduced[\"PCA1\"] ,y=X_reduced[\"PCA2\"])\n",
        "plt.scatter(x=centers_reduced[\"PCA1\"] ,y=centers_reduced[\"PCA2\"], color= \"red\", marker=\"*\", s=200)"
      ],
      "id": "blind-contact",
      "execution_count": null,
      "outputs": [
        {
          "output_type": "execute_result",
          "data": {
            "text/plain": [
              "<matplotlib.collections.PathCollection at 0x7fce16304550>"
            ]
          },
          "metadata": {},
          "execution_count": 21
        },
        {
          "output_type": "display_data",
          "data": {
            "image/png": "[encoded data removed]",
            "text/plain": [
              "<Figure size 504x504 with 1 Axes>"
            ]
          },
          "metadata": {
            "needs_background": "light"
          }
        }
      ]
    },
    {
      "cell_type": "code",
      "metadata": {
        "colab": {
          "base_uri": "https://localhost:8080/",
          "height": 423
        },
        "id": "controlled-luxury",
        "outputId": "1b9355b5-3ca2-4d59-c366-8f92cd5383ea"
      },
      "source": [
        "X_reduced[\"clusters\"] = clusters\n",
        "X_reduced"
      ],
      "id": "controlled-luxury",
      "execution_count": null,
      "outputs": [
        {
          "output_type": "execute_result",
          "data": {
            "text/html": [
              "<div>\n",
              "<style scoped>\n",
              "    .dataframe tbody tr th:only-of-type {\n",
              "        vertical-align: middle;\n",
              "    }\n",
              "\n",
              "    .dataframe tbody tr th {\n",
              "        vertical-align: top;\n",
              "    }\n",
              "\n",
              "    .dataframe thead th {\n",
              "        text-align: right;\n",
              "    }\n",
              "</style>\n",
              "<table border=\"1\" class=\"dataframe\">\n",
              "  <thead>\n",
              "    <tr style=\"text-align: right;\">\n",
              "      <th></th>\n",
              "      <th>PCA1</th>\n",
              "      <th>PCA2</th>\n",
              "      <th>clusters</th>\n",
              "    </tr>\n",
              "  </thead>\n",
              "  <tbody>\n",
              "    <tr>\n",
              "      <th>0</th>\n",
              "      <td>-1.619530</td>\n",
              "      <td>0.450950</td>\n",
              "      <td>2</td>\n",
              "    </tr>\n",
              "    <tr>\n",
              "      <th>1</th>\n",
              "      <td>-0.799170</td>\n",
              "      <td>1.856553</td>\n",
              "      <td>2</td>\n",
              "    </tr>\n",
              "    <tr>\n",
              "      <th>2</th>\n",
              "      <td>-0.748479</td>\n",
              "      <td>0.882039</td>\n",
              "      <td>2</td>\n",
              "    </tr>\n",
              "    <tr>\n",
              "      <th>3</th>\n",
              "      <td>2.357673</td>\n",
              "      <td>-0.269976</td>\n",
              "      <td>4</td>\n",
              "    </tr>\n",
              "    <tr>\n",
              "      <th>4</th>\n",
              "      <td>-1.619530</td>\n",
              "      <td>0.450950</td>\n",
              "      <td>2</td>\n",
              "    </tr>\n",
              "    <tr>\n",
              "      <th>...</th>\n",
              "      <td>...</td>\n",
              "      <td>...</td>\n",
              "      <td>...</td>\n",
              "    </tr>\n",
              "    <tr>\n",
              "      <th>1594</th>\n",
              "      <td>-2.150500</td>\n",
              "      <td>0.814286</td>\n",
              "      <td>1</td>\n",
              "    </tr>\n",
              "    <tr>\n",
              "      <th>1595</th>\n",
              "      <td>-2.214496</td>\n",
              "      <td>0.893101</td>\n",
              "      <td>1</td>\n",
              "    </tr>\n",
              "    <tr>\n",
              "      <th>1596</th>\n",
              "      <td>-1.456129</td>\n",
              "      <td>0.311746</td>\n",
              "      <td>1</td>\n",
              "    </tr>\n",
              "    <tr>\n",
              "      <th>1597</th>\n",
              "      <td>-2.270518</td>\n",
              "      <td>0.979791</td>\n",
              "      <td>2</td>\n",
              "    </tr>\n",
              "    <tr>\n",
              "      <th>1598</th>\n",
              "      <td>-0.426975</td>\n",
              "      <td>-0.536690</td>\n",
              "      <td>1</td>\n",
              "    </tr>\n",
              "  </tbody>\n",
              "</table>\n",
              "<p>1599 rows × 3 columns</p>\n",
              "</div>"
            ],
            "text/plain": [
              "          PCA1      PCA2  clusters\n",
              "0    -1.619530  0.450950         2\n",
              "1    -0.799170  1.856553         2\n",
              "2    -0.748479  0.882039         2\n",
              "3     2.357673 -0.269976         4\n",
              "4    -1.619530  0.450950         2\n",
              "...        ...       ...       ...\n",
              "1594 -2.150500  0.814286         1\n",
              "1595 -2.214496  0.893101         1\n",
              "1596 -1.456129  0.311746         1\n",
              "1597 -2.270518  0.979791         2\n",
              "1598 -0.426975 -0.536690         1\n",
              "\n",
              "[1599 rows x 3 columns]"
            ]
          },
          "metadata": {},
          "execution_count": 22
        }
      ]
    },
    {
      "cell_type": "code",
      "metadata": {
        "colab": {
          "base_uri": "https://localhost:8080/",
          "height": 446
        },
        "id": "hundred-conflict",
        "outputId": "9d46c37c-b0af-411c-d903-2127140c343d"
      },
      "source": [
        "plt.figure(figsize = (7,7))\n",
        "plt.scatter(x=X_reduced[X_reduced[\"clusters\"]==0][\"PCA1\"],y=X_reduced[X_reduced[\"clusters\"]==0][\"PCA2\"], color=\"yellow\")\n",
        "plt.scatter(x=X_reduced[X_reduced[\"clusters\"]==1][\"PCA1\"],y=X_reduced[X_reduced[\"clusters\"]==1][\"PCA2\"], color=\"blue\")\n",
        "plt.scatter(x=X_reduced[X_reduced[\"clusters\"]==2][\"PCA1\"],y=X_reduced[X_reduced[\"clusters\"]==2][\"PCA2\"], color=\"purple\")\n",
        "plt.scatter(x=X_reduced[X_reduced[\"clusters\"]==3][\"PCA1\"],y=X_reduced[X_reduced[\"clusters\"]==3][\"PCA2\"], color=\"green\")\n",
        "plt.scatter(x=X_reduced[X_reduced[\"clusters\"]==4][\"PCA1\"],y=X_reduced[X_reduced[\"clusters\"]==4][\"PCA2\"], color=\"cyan\")\n",
        "plt.scatter(x=X_reduced[X_reduced[\"clusters\"]==5][\"PCA1\"],y=X_reduced[X_reduced[\"clusters\"]==5][\"PCA2\"], color=\"violet\")\n",
        "plt.scatter(x=centers_reduced[\"PCA1\"] ,y=centers_reduced[\"PCA2\"], color= \"red\", marker=\"*\", s=300)"
      ],
      "id": "hundred-conflict",
      "execution_count": null,
      "outputs": [
        {
          "output_type": "execute_result",
          "data": {
            "text/plain": [
              "<matplotlib.collections.PathCollection at 0x7fce14a89cd0>"
            ]
          },
          "metadata": {},
          "execution_count": 25
        },
        {
          "output_type": "display_data",
          "data": {
            "image/png": "[encoded data removed]",
            "text/plain": [
              "<Figure size 504x504 with 1 Axes>"
            ]
          },
          "metadata": {
            "needs_background": "light"
          }
        }
      ]
    },
    {
      "cell_type": "markdown",
      "metadata": {
        "id": "consolidated-renaissance"
      },
      "source": [
        "### Conclusion: Thus we have successfully completed the implementation of K means clustering."
      ],
      "id": "consolidated-renaissance"
    }
  ]
}